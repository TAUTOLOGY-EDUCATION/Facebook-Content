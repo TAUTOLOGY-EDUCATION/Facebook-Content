{
 "cells": [
  {
   "cell_type": "code",
   "execution_count": 1,
   "id": "490986f2",
   "metadata": {},
   "outputs": [],
   "source": [
    "import itertools\n",
    "\n",
    "def game24(nums):\n",
    "    \"\"\"\n",
    "    Given a list of four numbers, return a string that represents an expression\n",
    "    that evaluates to 24. If no such expression exists, return \"no solution\".\n",
    "    \"\"\"\n",
    "    for a, b, c, d in itertools.permutations(nums):\n",
    "        # Try all possible arrangements of the four numbers\n",
    "        for op1, op2, op3 in itertools.product('+-*/', repeat=3):\n",
    "            # Try all possible combinations of three operators\n",
    "            try:\n",
    "                # Evaluate the expression\n",
    "                expr = f'(({a}{op1}{b}){op2}{c}){op3}{d}'\n",
    "                if eval(expr) == 24:\n",
    "                    return expr\n",
    "            except ZeroDivisionError:\n",
    "                # Ignore division by zero errors\n",
    "                pass\n",
    "    return \"no solution\""
   ]
  },
  {
   "cell_type": "code",
   "execution_count": 5,
   "id": "7b7c7ca9",
   "metadata": {},
   "outputs": [
    {
     "name": "stdout",
     "output_type": "stream",
     "text": [
      "((4+5)/3)*8\n"
     ]
    }
   ],
   "source": [
    "print(game24([4, 3, 5, 8]))"
   ]
  },
  {
   "cell_type": "code",
   "execution_count": null,
   "id": "57dc6651",
   "metadata": {},
   "outputs": [],
   "source": []
  }
 ],
 "metadata": {
  "kernelspec": {
   "display_name": "Python 3",
   "language": "python",
   "name": "python3"
  },
  "language_info": {
   "codemirror_mode": {
    "name": "ipython",
    "version": 3
   },
   "file_extension": ".py",
   "mimetype": "text/x-python",
   "name": "python",
   "nbconvert_exporter": "python",
   "pygments_lexer": "ipython3",
   "version": "3.8.8"
  }
 },
 "nbformat": 4,
 "nbformat_minor": 5
}
