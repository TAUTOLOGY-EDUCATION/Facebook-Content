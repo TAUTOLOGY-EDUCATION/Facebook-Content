{
 "cells": [
  {
   "cell_type": "code",
   "execution_count": 4,
   "id": "8c61a474",
   "metadata": {},
   "outputs": [],
   "source": [
    "import PyPDF2\n",
    "\n",
    "# Open the PDF file you want to add password protection to\n",
    "pdf_file = open('document.pdf', 'rb')\n",
    "pdf_reader = PyPDF2.PdfReader(pdf_file)\n",
    "\n",
    "# Create a PDF writer object\n",
    "pdf_writer = PyPDF2.PdfWriter()\n",
    "\n",
    "# Set the password for the PDF file\n",
    "password = 'mypassword'\n",
    "\n",
    "# Loop through each page of the PDF file and add it to the writer object\n",
    "for page_num in range(len(pdf_reader.pages)):\n",
    "    pdf_writer.add_page(pdf_reader.pages[page_num])\n",
    "\n",
    "# Encrypt the PDF file with the password\n",
    "pdf_writer.encrypt(password)\n",
    "\n",
    "# Save the encrypted PDF file to disk\n",
    "output_file = open('encrypted_file.pdf', 'wb')\n",
    "pdf_writer.write(output_file)\n",
    "\n",
    "# Close the files\n",
    "pdf_file.close()\n",
    "output_file.close()"
   ]
  },
  {
   "cell_type": "code",
   "execution_count": null,
   "id": "34e4fb4e",
   "metadata": {},
   "outputs": [],
   "source": []
  }
 ],
 "metadata": {
  "kernelspec": {
   "display_name": "Python 3",
   "language": "python",
   "name": "python3"
  },
  "language_info": {
   "codemirror_mode": {
    "name": "ipython",
    "version": 3
   },
   "file_extension": ".py",
   "mimetype": "text/x-python",
   "name": "python",
   "nbconvert_exporter": "python",
   "pygments_lexer": "ipython3",
   "version": "3.8.8"
  }
 },
 "nbformat": 4,
 "nbformat_minor": 5
}
