{
 "cells": [
  {
   "cell_type": "markdown",
   "id": "1a34bd08-214c-4c82-aa25-1d340fc0c531",
   "metadata": {},
   "source": [
    "## ตัวแปรต่างๆ"
   ]
  },
  {
   "cell_type": "code",
   "execution_count": 1,
   "id": "a460af4a-4b6c-4575-84cf-1f226c78807c",
   "metadata": {},
   "outputs": [],
   "source": [
    "# รายได้เฉลี่ยต่อหัวต่อปี\n",
    "year_avg_income = 238111.72\n",
    "\n",
    "# อัตราส่วนระหว่างเด็กและผู้ใหญ่\n",
    "p_childhood = 0.162\n",
    "p_adult = 1 - p_childhood\n",
    "\n",
    "# อัตราส่วนของการทำงานสามารถทำได้\n",
    "p_productivity_rate_at_25 = 0.2\n",
    "p_productivity_rate_at_0 = 1 - p_productivity_rate_at_25\n",
    "\n",
    "# ความสามารถในการทำงานที่ลดลง\n",
    "productivity_rate_decerese_at_25 = 1 - 0.25\n",
    "productivity_rate_decerese_at_0 = 1 - 0\n",
    "\n",
    "# จำนวนปีที่เสียหายจากการสูญเสียการมองเห็น\n",
    "effect_year_childhood = 33\n",
    "effect_year_adult = 10\n",
    "\n",
    "# อัตราการรักษาหรือการป้องกันการสูญเสียการมองเห็น\n",
    "p_curable_childhood = 0.50\n",
    "p_curable_adult = 0.75\n",
    "\n",
    "# จำนวนประชากรในประเทศไทย\n",
    "n_pop_thailand = 70 * 10 ** 6\n",
    "\n",
    "# ความชุกของภาาวะตาบอด(the prevalence of blindness)\n",
    "p_blindness = 0.006\n",
    "\n",
    "# จำนวนจักษุแพทย์ในประเทศไทย\n",
    "n_ophthalmologists = 966"
   ]
  },
  {
   "cell_type": "markdown",
   "id": "6c9b8c5c-9a52-4866-875e-ec3828ad5064",
   "metadata": {},
   "source": [
    "### EV of productivity_rate_decerese"
   ]
  },
  {
   "cell_type": "code",
   "execution_count": 2,
   "id": "4da333b2-7753-49e5-8af1-bb2d88d21613",
   "metadata": {},
   "outputs": [],
   "source": [
    "productivity_rate_decerese = (\n",
    "    p_productivity_rate_at_25 * productivity_rate_decerese_at_25\n",
    "    + p_productivity_rate_at_0 * productivity_rate_decerese_at_0\n",
    ")"
   ]
  },
  {
   "cell_type": "code",
   "execution_count": 3,
   "id": "c4de690a-f114-43e5-a20f-370256bb05dd",
   "metadata": {},
   "outputs": [
    {
     "data": {
      "text/plain": [
       "0.9500000000000001"
      ]
     },
     "execution_count": 3,
     "metadata": {},
     "output_type": "execute_result"
    }
   ],
   "source": [
    "productivity_rate_decerese"
   ]
  },
  {
   "cell_type": "markdown",
   "id": "ad95b02f-bab8-49df-a814-a96fbb540ed3",
   "metadata": {},
   "source": [
    "### ความสูญเสียจากผู้ใหญ่ตาบอด (ต่อคน)"
   ]
  },
  {
   "cell_type": "code",
   "execution_count": 4,
   "id": "7cfa0946-db94-4e2e-90aa-c88506709403",
   "metadata": {},
   "outputs": [],
   "source": [
    "adult_burden = productivity_rate_decerese * year_avg_income * effect_year_adult"
   ]
  },
  {
   "cell_type": "code",
   "execution_count": 5,
   "id": "50a50c4a-2520-4a7a-a864-c0baf6a329df",
   "metadata": {},
   "outputs": [
    {
     "data": {
      "text/plain": [
       "2262061.3400000003"
      ]
     },
     "execution_count": 5,
     "metadata": {},
     "output_type": "execute_result"
    }
   ],
   "source": [
    "adult_burden"
   ]
  },
  {
   "cell_type": "markdown",
   "id": "2a6f3c22-a366-43a3-adf9-5a1da42884d3",
   "metadata": {},
   "source": [
    "### ความสูญเสียจากเด็กตาบอด (ต่อคน)"
   ]
  },
  {
   "cell_type": "code",
   "execution_count": 6,
   "id": "03a091be-0ca2-41b0-a7ce-41a6f50f2ef1",
   "metadata": {},
   "outputs": [],
   "source": [
    "childhood_burden = productivity_rate_decerese * year_avg_income * effect_year_childhood"
   ]
  },
  {
   "cell_type": "code",
   "execution_count": 7,
   "id": "1cdaffb4-0e60-4557-ad84-6efd8310e254",
   "metadata": {},
   "outputs": [
    {
     "data": {
      "text/plain": [
       "7464802.422"
      ]
     },
     "execution_count": 7,
     "metadata": {},
     "output_type": "execute_result"
    }
   ],
   "source": [
    "childhood_burden"
   ]
  },
  {
   "cell_type": "markdown",
   "id": "5fb3da7f-5696-4a35-ad95-b73e473476f5",
   "metadata": {},
   "source": [
    "### ความสูญเสียเฉลี่ย (ต่อคน)"
   ]
  },
  {
   "cell_type": "code",
   "execution_count": 8,
   "id": "f3aaabe5-e74c-42e6-a864-3ebced9e9e03",
   "metadata": {},
   "outputs": [],
   "source": [
    "economic_burden = p_childhood * childhood_burden + p_adult * adult_burden"
   ]
  },
  {
   "cell_type": "code",
   "execution_count": 9,
   "id": "e235c497-972d-4c22-982d-95a99e886802",
   "metadata": {},
   "outputs": [
    {
     "data": {
      "text/plain": [
       "3104905.3952840003"
      ]
     },
     "execution_count": 9,
     "metadata": {},
     "output_type": "execute_result"
    }
   ],
   "source": [
    "economic_burden"
   ]
  },
  {
   "cell_type": "markdown",
   "id": "09bb25fe-e191-4011-92fd-4733eac54c03",
   "metadata": {},
   "source": [
    "### ความสูญเสียโดยเฉลี่ยที่สามารถป้องกันได้ (ต่อคน)"
   ]
  },
  {
   "cell_type": "code",
   "execution_count": 10,
   "id": "6da0d682-a657-40bd-a452-e2a8e10b31d6",
   "metadata": {},
   "outputs": [],
   "source": [
    "# ความสูญเสียที่หมอสามารถป้องกันไม่ให้เกิดได้"
   ]
  },
  {
   "cell_type": "code",
   "execution_count": 11,
   "id": "3d050200-a3b6-4a73-9ec8-9741c9b400dd",
   "metadata": {},
   "outputs": [],
   "source": [
    "prevented_economic_burden = (\n",
    "    p_curable_childhood * p_childhood * childhood_burden\n",
    "    + p_curable_adult * p_adult * adult_burden\n",
    ")"
   ]
  },
  {
   "cell_type": "code",
   "execution_count": 12,
   "id": "24e44e06-06e8-41d7-9e5d-789584f46145",
   "metadata": {},
   "outputs": [
    {
     "data": {
      "text/plain": [
       "2026354.5483720002"
      ]
     },
     "execution_count": 12,
     "metadata": {},
     "output_type": "execute_result"
    }
   ],
   "source": [
    "prevented_economic_burden"
   ]
  },
  {
   "cell_type": "markdown",
   "id": "2faec59a-26bb-49a3-a3f6-1d25756432fc",
   "metadata": {},
   "source": [
    "### ความสูญเสียโดยเฉลี่ยที่สามารถป้องกันได้ (ต่อทั้งประเทศไทย)"
   ]
  },
  {
   "cell_type": "code",
   "execution_count": 13,
   "id": "6128bdc5-048d-45ae-8b46-93f7eda1c9b4",
   "metadata": {},
   "outputs": [],
   "source": [
    "thailand_prevented_economic_burden = (\n",
    "    n_pop_thailand * p_blindness * prevented_economic_burden\n",
    ")"
   ]
  },
  {
   "cell_type": "code",
   "execution_count": 14,
   "id": "5c840fba-e35b-46ba-9a7c-16e1f6fe6857",
   "metadata": {},
   "outputs": [
    {
     "data": {
      "text/plain": [
       "851068910316.2401"
      ]
     },
     "execution_count": 14,
     "metadata": {},
     "output_type": "execute_result"
    }
   ],
   "source": [
    "thailand_prevented_economic_burden"
   ]
  },
  {
   "cell_type": "markdown",
   "id": "f5b9be03-8079-41ef-8885-b11b4a112471",
   "metadata": {},
   "source": [
    "### ความสูญเสียโดยเฉลี่ยที่สามารถป้องกันได้ต่อจักษุแพทย์ 1 คน (ต่อทั้งประเทศไทย)"
   ]
  },
  {
   "cell_type": "code",
   "execution_count": 15,
   "id": "8257480f-099f-41d3-8abc-8b2597130a55",
   "metadata": {},
   "outputs": [
    {
     "data": {
      "text/plain": [
       "881023716.6834784"
      ]
     },
     "execution_count": 15,
     "metadata": {},
     "output_type": "execute_result"
    }
   ],
   "source": [
    "thailand_prevented_economic_burden / n_ophthalmologists"
   ]
  }
 ],
 "metadata": {
  "kernelspec": {
   "display_name": "Python 3",
   "language": "python",
   "name": "python3"
  },
  "language_info": {
   "codemirror_mode": {
    "name": "ipython",
    "version": 3
   },
   "file_extension": ".py",
   "mimetype": "text/x-python",
   "name": "python",
   "nbconvert_exporter": "python",
   "pygments_lexer": "ipython3",
   "version": "3.8.10"
  }
 },
 "nbformat": 4,
 "nbformat_minor": 5
}
