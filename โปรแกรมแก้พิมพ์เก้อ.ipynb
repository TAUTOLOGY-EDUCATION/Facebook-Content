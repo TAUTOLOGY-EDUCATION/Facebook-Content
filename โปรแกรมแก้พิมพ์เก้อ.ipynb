{
 "cells": [
  {
   "cell_type": "code",
   "execution_count": 1,
   "id": "06e52e5b",
   "metadata": {},
   "outputs": [],
   "source": [
    "def eng_to_thai(text):\n",
    "    eng_to_thai_map = {\n",
    "        '`': '-', '1': 'ๅ', '2': '/', '3': '-', '4': 'ภ', '5': 'ถ', '6': 'ุ', '7': 'ึ', '8': 'ค', '9': 'ต', '0': 'จ',\n",
    "        '-': 'ข', '=': 'ช', 'q': 'ๆ', 'w': 'ไ', 'e': 'ำ', 'r': 'พ', 't': 'ะ', 'y': 'ั', 'u': 'ี', 'i': 'ร', 'o': 'น', 'p': 'ย',\n",
    "        '[': 'บ', ']': 'ล', 'a': 'ฟ', 's': 'ห', 'd': 'ก', 'f': 'ด', 'g': 'เ', 'h': '้', 'j': '่', 'k': 'า', 'l': 'ส', ';': 'ว',\n",
    "        \"'\": 'ง', 'z': 'ผ', 'x': 'ป', 'c': 'แ', 'v': 'อ', 'b': 'ิ', 'n': 'ื', 'm': 'ท', ',': 'ม', '.': 'ใ', '/': 'ฝ',\n",
    "        '~': '%', '!': '+', '@': '๑', '#': '๒', '$': '๓', '%': '๔', '^': 'ู', '&': '฿', '*': '๕', '(': '๖', ')': '๗', '_': '๘', '+': '๙',\n",
    "        '{': 'ฤ', '}': 'ฦ',\n",
    "        'Q': '๐', 'W': '\"', 'E': 'ฎ', 'R': 'ฑ', 'T': 'ธ', 'Y': 'ํ', 'U': '๊', 'I': 'ณ', 'O': 'ฯ', 'P': 'ญ',\n",
    "        '{': 'ฐ', '}': ',', 'A': 'ฤ', 'S': 'ฆ', 'D': 'ฏ', 'F': 'โ', 'G': 'ฌ', 'H': '็', 'J': '๋', 'K': 'ษ', 'L': 'ส', ':': 'ซ',\n",
    "        '\"': '.', 'Z': '(', 'X': ')', 'C': 'ฉ', 'V': 'ฮ', 'B': 'ฺ', 'N': '์', 'M': '?', '<': 'ฒ', '>': 'ฬ', '?': 'ฦ',\n",
    "    }\n",
    "    thai_text = ''\n",
    "    for char in text:\n",
    "        if char in eng_to_thai_map:\n",
    "            thai_text += eng_to_thai_map[char]\n",
    "        elif char.upper() in eng_to_thai_map:\n",
    "            thai_text += eng_to_thai_map[char.upper()].upper()\n",
    "        else:\n",
    "            thai_text += char\n",
    "    return thai_text"
   ]
  },
  {
   "cell_type": "code",
   "execution_count": 2,
   "id": "4e58a18a",
   "metadata": {},
   "outputs": [],
   "source": [
    "eng_text = \"Fvhppppp ]n,gx]ujpo4kKk rb,rN9yh'pk;;;;;;;\""
   ]
  },
  {
   "cell_type": "code",
   "execution_count": 3,
   "id": "731ad288",
   "metadata": {},
   "outputs": [],
   "source": [
    "thai_text = eng_to_thai(eng_text)"
   ]
  },
  {
   "cell_type": "code",
   "execution_count": 4,
   "id": "da39582d",
   "metadata": {},
   "outputs": [
    {
     "name": "stdout",
     "output_type": "stream",
     "text": [
      "โอ้ยยยยย ลืมเปลี่ยนภาษา พิมพ์ตั้งยาววววววว\n"
     ]
    }
   ],
   "source": [
    "print(thai_text)"
   ]
  }
 ],
 "metadata": {
  "kernelspec": {
   "display_name": "Python 3",
   "language": "python",
   "name": "python3"
  },
  "language_info": {
   "codemirror_mode": {
    "name": "ipython",
    "version": 3
   },
   "file_extension": ".py",
   "mimetype": "text/x-python",
   "name": "python",
   "nbconvert_exporter": "python",
   "pygments_lexer": "ipython3",
   "version": "3.8.8"
  }
 },
 "nbformat": 4,
 "nbformat_minor": 5
}
