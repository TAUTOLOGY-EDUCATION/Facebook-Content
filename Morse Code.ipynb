{
 "cells": [
  {
   "cell_type": "code",
   "execution_count": 2,
   "id": "1c6746ed",
   "metadata": {},
   "outputs": [
    {
     "name": "stdout",
     "output_type": "stream",
     "text": [
      "Enter text to convert to Morse Code: PLEASE HELP ME\n",
      "Morse Code:  .--. .-.. . .- ... .  .... . .-.. .--.  -- . \n"
     ]
    }
   ],
   "source": [
    "MORSE_CODE_DICT = {'A': '.-', 'B': '-...', 'C': '-.-.', 'D': '-..', \n",
    "                   'E': '.', 'F': '..-.', 'G': '--.', 'H': '....', \n",
    "                   'I': '..', 'J': '.---', 'K': '-.-', 'L': '.-..', \n",
    "                   'M': '--', 'N': '-.', 'O': '---', 'P': '.--.', \n",
    "                   'Q': '--.-', 'R': '.-.', 'S': '...', 'T': '-', \n",
    "                   'U': '..-', 'V': '...-', 'W': '.--', 'X': '-..-', \n",
    "                   'Y': '-.--', 'Z': '--..', '1': '.----', '2': '..---', \n",
    "                   '3': '...--', '4': '....-', '5': '.....', '6': '-....', \n",
    "                   '7': '--...', '8': '---..', '9': '----.', '0': '-----'}\n",
    "\n",
    "def encrypt(message):\n",
    "    cipher = ''\n",
    "    for letter in message:\n",
    "        if letter != ' ':\n",
    "            cipher += MORSE_CODE_DICT[letter] + ' '\n",
    "        else:\n",
    "            cipher += ' '\n",
    "    return cipher\n",
    "\n",
    "message = input(\"Enter text to convert to Morse Code: \")\n",
    "result = encrypt(message.upper())\n",
    "print(\"Morse Code: \", result)"
   ]
  },
  {
   "cell_type": "code",
   "execution_count": null,
   "id": "438e1bba",
   "metadata": {},
   "outputs": [],
   "source": []
  }
 ],
 "metadata": {
  "kernelspec": {
   "display_name": "Python 3",
   "language": "python",
   "name": "python3"
  },
  "language_info": {
   "codemirror_mode": {
    "name": "ipython",
    "version": 3
   },
   "file_extension": ".py",
   "mimetype": "text/x-python",
   "name": "python",
   "nbconvert_exporter": "python",
   "pygments_lexer": "ipython3",
   "version": "3.8.8"
  }
 },
 "nbformat": 4,
 "nbformat_minor": 5
}
