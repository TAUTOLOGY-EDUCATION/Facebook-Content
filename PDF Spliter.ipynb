{
 "cells": [
  {
   "cell_type": "code",
   "execution_count": 1,
   "id": "972b7897",
   "metadata": {},
   "outputs": [],
   "source": [
    "import PyPDF2\n",
    "\n",
    "# Function to split PDF document\n",
    "def split_pdf(input_path, output_path, pages):\n",
    "    pdf_reader = PyPDF2.PdfReader(input_path)\n",
    "    pdf_writer = PyPDF2.PdfWriter()\n",
    "    for page in pages:\n",
    "        pdf_writer.add_page(pdf_reader.pages[page])\n",
    "    with open(output_path, 'wb') as f:\n",
    "        pdf_writer.write(f)\n",
    "\n",
    "# Split a PDF document with pages 2 to 4\n",
    "input_path = 'document.pdf'\n",
    "output_path = 'split_document.pdf'\n",
    "pages = [0, 16] # 0-based index\n",
    "split_pdf(input_path, output_path, pages)"
   ]
  },
  {
   "cell_type": "code",
   "execution_count": null,
   "id": "21a5ae67",
   "metadata": {},
   "outputs": [],
   "source": []
  }
 ],
 "metadata": {
  "kernelspec": {
   "display_name": "Python 3",
   "language": "python",
   "name": "python3"
  },
  "language_info": {
   "codemirror_mode": {
    "name": "ipython",
    "version": 3
   },
   "file_extension": ".py",
   "mimetype": "text/x-python",
   "name": "python",
   "nbconvert_exporter": "python",
   "pygments_lexer": "ipython3",
   "version": "3.8.8"
  }
 },
 "nbformat": 4,
 "nbformat_minor": 5
}
