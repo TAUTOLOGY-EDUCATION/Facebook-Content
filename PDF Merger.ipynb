{
 "cells": [
  {
   "cell_type": "code",
   "execution_count": 1,
   "id": "d41a34cb",
   "metadata": {},
   "outputs": [],
   "source": [
    "import PyPDF2\n",
    "\n",
    "# Function to merge PDF documents\n",
    "def merge_pdfs(input_paths, output_path):\n",
    "    pdf_merger = PyPDF2.PdfMerger()\n",
    "    for path in input_paths:\n",
    "        with open(path, 'rb') as f:\n",
    "            pdf_merger.append(f)\n",
    "    with open(output_path, 'wb') as f:\n",
    "        pdf_merger.write(f)\n",
    "\n",
    "# Example usage\n",
    "# Merge two PDF documents\n",
    "input_paths = ['document1.pdf', 'document2.pdf']\n",
    "output_path = 'merged_document.pdf'\n",
    "merge_pdfs(input_paths, output_path)"
   ]
  }
 ],
 "metadata": {
  "kernelspec": {
   "display_name": "Python 3",
   "language": "python",
   "name": "python3"
  },
  "language_info": {
   "codemirror_mode": {
    "name": "ipython",
    "version": 3
   },
   "file_extension": ".py",
   "mimetype": "text/x-python",
   "name": "python",
   "nbconvert_exporter": "python",
   "pygments_lexer": "ipython3",
   "version": "3.8.8"
  }
 },
 "nbformat": 4,
 "nbformat_minor": 5
}
