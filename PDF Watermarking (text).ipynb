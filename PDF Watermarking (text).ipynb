{
 "cells": [
  {
   "cell_type": "code",
   "execution_count": 1,
   "metadata": {},
   "outputs": [],
   "source": [
    "import PyPDF2\n",
    "from reportlab.pdfgen import canvas\n",
    "from reportlab.lib.units import inch\n",
    "from reportlab.lib.colors import Color\n",
    "from datetime import datetime"
   ]
  },
  {
   "cell_type": "code",
   "execution_count": 2,
   "metadata": {},
   "outputs": [],
   "source": [
    "from reportlab.pdfgen import canvas\n",
    "\n",
    "# Open the original PDF file and create a new PDF file for watermark\n",
    "input_pdf = 'document3.pdf'\n",
    "watermark_pdf = 'watermark_text.pdf'\n",
    "pdf_canvas = canvas.Canvas(watermark_pdf)\n",
    "\n",
    "# Set the font size and color for the watermark text\n",
    "pdf_canvas.setFont('Helvetica-Bold', 50)\n",
    "pdf_canvas.setFillColorRGB(0, 0, 0, alpha=0.5)\n",
    "\n",
    "# Set the position and rotation angle for the watermark text\n",
    "page_width, page_height = pdf_canvas._pagesize\n",
    "x_pos = page_width/2\n",
    "y_pos = page_height/8\n",
    "angle = 45\n",
    "\n",
    "# Write the text to the PDF canvas\n",
    "pdf_canvas.rotate(angle)\n",
    "pdf_canvas.drawString(x_pos, y_pos, 'TAUTOLOGY')\n",
    "\n",
    "# Save the PDF canvas and close the file\n",
    "pdf_canvas.save()\n",
    "\n",
    "# Merge the original PDF file and the watermark PDF file\n",
    "from PyPDF2 import PdfReader, PdfWriter\n",
    "\n",
    "input_stream = open(input_pdf, 'rb')\n",
    "pdf_reader = PdfReader(input_stream)\n",
    "\n",
    "# Create a new PDF file for output\n",
    "pdf_writer = PdfWriter()\n",
    "\n",
    "for page_num in range(len(pdf_reader.pages)):\n",
    "    # merge the watermark with the page\n",
    "    page = pdf_reader.pages[page_num]\n",
    "    watermark_stream = open(watermark_pdf, 'rb')\n",
    "    watermark = PdfReader(watermark_stream)\n",
    "    page.merge_page(watermark.pages[0])\n",
    "    pdf_writer.add_page(page)\n",
    "\n",
    "# Write the output PDF file\n",
    "with open('watermarked_text_document.pdf', 'wb') as fp:\n",
    "    pdf_writer.write(fp)\n",
    "\n",
    "# Close the input and output files\n",
    "input_stream.close()\n",
    "watermark_stream.close()"
   ]
  },
  {
   "cell_type": "code",
   "execution_count": null,
   "metadata": {},
   "outputs": [],
   "source": []
  }
 ],
 "metadata": {
  "kernelspec": {
   "display_name": "Python 3",
   "language": "python",
   "name": "python3"
  },
  "language_info": {
   "codemirror_mode": {
    "name": "ipython",
    "version": 3
   },
   "file_extension": ".py",
   "mimetype": "text/x-python",
   "name": "python",
   "nbconvert_exporter": "python",
   "pygments_lexer": "ipython3",
   "version": "3.8.8"
  }
 },
 "nbformat": 4,
 "nbformat_minor": 4
}
