{
 "cells": [
  {
   "cell_type": "code",
   "execution_count": 1,
   "id": "6f4fcc0f",
   "metadata": {},
   "outputs": [],
   "source": [
    "# !pip install wordninja"
   ]
  },
  {
   "cell_type": "code",
   "execution_count": 2,
   "id": "dd83ca7d",
   "metadata": {},
   "outputs": [
    {
     "name": "stdout",
     "output_type": "stream",
     "text": [
      "PDF to text conversion complete!\n"
     ]
    }
   ],
   "source": [
    "import PyPDF2\n",
    "import wordninja\n",
    "\n",
    "# Open the PDF file\n",
    "pdf_file = open('document.pdf', 'rb')\n",
    "\n",
    "# Create a PDF file reader object\n",
    "pdf_reader = PyPDF2.PdfReader(pdf_file)\n",
    "\n",
    "# Get the number of pages in the PDF file\n",
    "num_pages = len(pdf_reader.pages)\n",
    "\n",
    "# Create a variable to hold the entire text\n",
    "text = ''\n",
    "# Loop through each page and extract the text\n",
    "for page in range(num_pages):\n",
    "    page_obj = pdf_reader.pages[page]\n",
    "    page_text = page_obj.extract_text()\n",
    "    words = wordninja.split(page_text)\n",
    "    for w in words:\n",
    "        text += w + ' '\n",
    "    text += '\\n\\n'\n",
    "\n",
    "# Save the text to a file\n",
    "with open('example.txt', 'w') as file:\n",
    "    file.write(text)\n",
    "\n",
    "# Close the PDF file\n",
    "pdf_file.close()\n",
    "\n",
    "# Print a message to indicate the conversion is complete\n",
    "print(\"PDF to text conversion complete!\")"
   ]
  },
  {
   "cell_type": "code",
   "execution_count": null,
   "id": "ea273923",
   "metadata": {},
   "outputs": [],
   "source": []
  }
 ],
 "metadata": {
  "kernelspec": {
   "display_name": "Python 3",
   "language": "python",
   "name": "python3"
  },
  "language_info": {
   "codemirror_mode": {
    "name": "ipython",
    "version": 3
   },
   "file_extension": ".py",
   "mimetype": "text/x-python",
   "name": "python",
   "nbconvert_exporter": "python",
   "pygments_lexer": "ipython3",
   "version": "3.8.8"
  }
 },
 "nbformat": 4,
 "nbformat_minor": 5
}
